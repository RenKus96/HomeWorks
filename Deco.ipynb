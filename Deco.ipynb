{
 "cells": [
  {
   "cell_type": "code",
   "execution_count": 4,
   "metadata": {},
   "outputs": [],
   "source": [
    "import random\n",
    "import time\n",
    "import functools\n",
    "import sys\n",
    "from time import sleep"
   ]
  },
  {
   "cell_type": "code",
   "execution_count": 5,
   "metadata": {},
   "outputs": [],
   "source": [
    "def profile(msg=\"Elapsed time for function\"):\n",
    "    def internal(f):\n",
    "        @functools.wraps(f)\n",
    "        def deco(*args, **kwargs):\n",
    "            start = time.time()\n",
    "            deco._num_call += 1\n",
    "            result = f(*args, **kwargs)\n",
    "            deco._num_call -= 1\n",
    "            \n",
    "            if deco._num_call == 0:\n",
    "                print(msg, f'{f.__name__}: {time.time() - start}s')\n",
    "            return result\n",
    "        \n",
    "        deco._num_call = 0\n",
    "        return deco\n",
    "    \n",
    "    return internal"
   ]
  },
  {
   "cell_type": "code",
   "execution_count": 19,
   "metadata": {},
   "outputs": [],
   "source": [
    "def cache(max_limit=10):\n",
    "    def internal(f):\n",
    "        @functools.wraps(f)\n",
    "        def deco(*args):\n",
    "\n",
    "            if args in deco._cache:\n",
    "                return deco._cache[args]\n",
    "\n",
    "            result = f(*args)\n",
    "\n",
    "            if len(deco._cache) < max_limit:\n",
    "                deco._cache[args] = result\n",
    "#             else:\n",
    "#                 print('Кеш достиг заданного предела.')\n",
    "\n",
    "            return result\n",
    "\n",
    "        deco._cache = {}\n",
    "\n",
    "        return deco\n",
    "    return internal"
   ]
  },
  {
   "cell_type": "code",
   "execution_count": 20,
   "metadata": {},
   "outputs": [
    {
     "name": "stdout",
     "output_type": "stream",
     "text": [
      "Elapsed time for function foo: 2.0138261318206787s\n",
      "Elapsed time for function foo: 0.0s\n",
      "Elapsed time for function foo: 3.0004079341888428s\n",
      "Elapsed time for function foo: 0.0s\n",
      "Кеш достиг заданного предела.\n",
      "Elapsed time for function foo: 4.005474328994751s\n",
      "Кеш достиг заданного предела.\n",
      "Elapsed time for function foo: 4.006012916564941s\n"
     ]
    }
   ],
   "source": [
    "@profile()\n",
    "@cache(max_limit=2)\n",
    "def foo(n):\n",
    "    time.sleep(n)\n",
    "\n",
    "foo(2)\n",
    "foo(2)\n",
    "foo(3)\n",
    "foo(3)\n",
    "foo(4)\n",
    "foo(4)"
   ]
  },
  {
   "cell_type": "code",
   "execution_count": null,
   "metadata": {},
   "outputs": [],
   "source": []
  },
  {
   "cell_type": "code",
   "execution_count": null,
   "metadata": {},
   "outputs": [],
   "source": []
  }
 ],
 "metadata": {
  "kernelspec": {
   "display_name": "Python 3",
   "language": "python",
   "name": "python3"
  },
  "language_info": {
   "codemirror_mode": {
    "name": "ipython",
    "version": 3
   },
   "file_extension": ".py",
   "mimetype": "text/x-python",
   "name": "python",
   "nbconvert_exporter": "python",
   "pygments_lexer": "ipython3",
   "version": "3.7.6"
  }
 },
 "nbformat": 4,
 "nbformat_minor": 4
}
