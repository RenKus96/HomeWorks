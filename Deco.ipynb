{
 "cells": [
  {
   "cell_type": "code",
   "execution_count": 1,
   "metadata": {},
   "outputs": [],
   "source": [
    "import random\n",
    "import time\n",
    "import functools\n",
    "import sys\n",
    "from time import sleep\n",
    "from datetime import datetime"
   ]
  },
  {
   "cell_type": "code",
   "execution_count": 2,
   "metadata": {},
   "outputs": [],
   "source": [
    "def profile(msg=\"Elapsed time for function\"):\n",
    "    def internal(f):\n",
    "        @functools.wraps(f)\n",
    "        def deco(*args, **kwargs):\n",
    "            start = time.time()\n",
    "            deco._num_call += 1\n",
    "            result = f(*args, **kwargs)\n",
    "            deco._num_call -= 1\n",
    "            \n",
    "            if deco._num_call == 0:\n",
    "                print(msg, f'{f.__name__}: {time.time() - start}s')\n",
    "            return result\n",
    "        \n",
    "        deco._num_call = 0\n",
    "        return deco\n",
    "    \n",
    "    return internal"
   ]
  },
  {
   "cell_type": "code",
   "execution_count": 3,
   "metadata": {},
   "outputs": [],
   "source": [
    "def cache(max_limit=10):\n",
    "    def internal(f):\n",
    "        @functools.wraps(f)\n",
    "        def deco(*args):\n",
    "            \n",
    "            # print(deco._cache)\n",
    "            # print(deco._uses)\n",
    "            if args in deco._cache:\n",
    "                # Если по более раннему времени использованого\n",
    "                deco._uses[args] = datetime.now()\n",
    "                # Если по минимальному количеству использований\n",
    "                # deco._uses[args] += 1\n",
    "                return deco._cache[args]\n",
    "\n",
    "            result = f(*args)\n",
    "\n",
    "            if not len(deco._cache) < max_limit:\n",
    "                deco._cache.pop(min(deco._uses, key=deco._uses.get))\n",
    "                deco._uses.pop(min(deco._uses, key=deco._uses.get))\n",
    "            deco._cache[args] = result\n",
    "            # Если по более раннему времени использованого\n",
    "            deco._uses[args] = datetime.now()\n",
    "            # Если по минимальному количеству использований\n",
    "            # deco._uses[args] = 1\n",
    "\n",
    "            return result\n",
    "\n",
    "        deco._cache = {}\n",
    "        deco._uses = {}\n",
    "\n",
    "        return deco\n",
    "    return internal"
   ]
  },
  {
   "cell_type": "code",
   "execution_count": 7,
   "metadata": {},
   "outputs": [
    {
     "name": "stdout",
     "output_type": "stream",
     "text": [
      "{}\n",
      "{}\n",
      "Elapsed time for function foo: 2.0021142959594727s\n",
      "Параметр = 2\n",
      "{(2,): 'Параметр = 2'}\n",
      "{(2,): datetime.datetime(2021, 5, 19, 21, 15, 50, 184720)}\n",
      "Elapsed time for function foo: 0.0s\n",
      "Параметр = 2\n",
      "{(2,): 'Параметр = 2'}\n",
      "{(2,): datetime.datetime(2021, 5, 19, 21, 15, 50, 198720)}\n",
      "Elapsed time for function foo: 0.0s\n",
      "Параметр = 2\n",
      "{(2,): 'Параметр = 2'}\n",
      "{(2,): datetime.datetime(2021, 5, 19, 21, 15, 50, 198720)}\n",
      "Elapsed time for function foo: 3.000171661376953s\n",
      "Параметр = 3\n",
      "{(2,): 'Параметр = 2', (3,): 'Параметр = 3'}\n",
      "{(2,): datetime.datetime(2021, 5, 19, 21, 15, 50, 198720), (3,): datetime.datetime(2021, 5, 19, 21, 15, 53, 198892)}\n",
      "Elapsed time for function foo: 0.0010001659393310547s\n",
      "Параметр = 3\n",
      "{(2,): 'Параметр = 2', (3,): 'Параметр = 3'}\n",
      "{(2,): datetime.datetime(2021, 5, 19, 21, 15, 50, 198720), (3,): datetime.datetime(2021, 5, 19, 21, 15, 53, 201892)}\n",
      "Elapsed time for function foo: 4.0032289028167725s\n",
      "Параметр = 4\n",
      "{(3,): 'Параметр = 3', (4,): 'Параметр = 4'}\n",
      "{(3,): datetime.datetime(2021, 5, 19, 21, 15, 53, 201892), (4,): datetime.datetime(2021, 5, 19, 21, 15, 57, 205121)}\n",
      "Elapsed time for function foo: 0.0s\n",
      "Параметр = 4\n",
      "{(3,): 'Параметр = 3', (4,): 'Параметр = 4'}\n",
      "{(3,): datetime.datetime(2021, 5, 19, 21, 15, 53, 201892), (4,): datetime.datetime(2021, 5, 19, 21, 15, 57, 206121)}\n",
      "Elapsed time for function foo: 2.0001144409179688s\n",
      "Параметр = 2\n",
      "{(4,): 'Параметр = 4', (2,): 'Параметр = 2'}\n",
      "{(4,): datetime.datetime(2021, 5, 19, 21, 15, 57, 206121), (2,): datetime.datetime(2021, 5, 19, 21, 15, 59, 216236)}\n",
      "Elapsed time for function foo: 3.005171775817871s\n",
      "Параметр = 3\n",
      "{(2,): 'Параметр = 2', (3,): 'Параметр = 3'}\n",
      "{(2,): datetime.datetime(2021, 5, 19, 21, 15, 59, 216236), (3,): datetime.datetime(2021, 5, 19, 21, 16, 2, 222408)}\n",
      "Elapsed time for function foo: 4.0002288818359375s\n",
      "Параметр = 4\n"
     ]
    }
   ],
   "source": [
    "@profile()\n",
    "@cache(max_limit=2)\n",
    "def foo(n):\n",
    "    time.sleep(n)\n",
    "    return 'Параметр = {}'.format(n)\n",
    "\n",
    "print(foo(2))\n",
    "print(foo(2))\n",
    "print(foo(2))\n",
    "print(foo(3))\n",
    "print(foo(3))\n",
    "print(foo(4))\n",
    "print(foo(4))\n",
    "print(foo(2))\n",
    "print(foo(3))\n",
    "print(foo(4))"
   ]
  },
  {
   "cell_type": "code",
   "execution_count": 11,
   "metadata": {},
   "outputs": [],
   "source": [
    "@profile()\n",
    "#@cache(max_limit=10)\n",
    "def fibo(n):\n",
    "    \"\"\"Super inefficient fibo function\"\"\"\n",
    "    if n < 2:\n",
    "        return n\n",
    "    else:\n",
    "        return fibo(n-1) + fibo(n-2)"
   ]
  },
  {
   "cell_type": "code",
   "execution_count": 12,
   "metadata": {},
   "outputs": [
    {
     "name": "stdout",
     "output_type": "stream",
     "text": [
      "Elapsed time for function fibo: 4.153237581253052s\n"
     ]
    },
    {
     "data": {
      "text/plain": [
       "832040"
      ]
     },
     "execution_count": 12,
     "metadata": {},
     "output_type": "execute_result"
    }
   ],
   "source": [
    "# for i in range(200):\n",
    "#     print(i, '->', fibo(i))\n",
    "fibo(30)\n",
    "#fibo(1000)"
   ]
  },
  {
   "cell_type": "code",
   "execution_count": 13,
   "metadata": {},
   "outputs": [],
   "source": [
    "@profile()\n",
    "@cache(max_limit=10)\n",
    "def fibo(n):\n",
    "    \"\"\"Super inefficient fibo function\"\"\"\n",
    "    if n < 2:\n",
    "        return n\n",
    "    else:\n",
    "        return fibo(n-1) + fibo(n-2)"
   ]
  },
  {
   "cell_type": "code",
   "execution_count": 14,
   "metadata": {},
   "outputs": [
    {
     "name": "stdout",
     "output_type": "stream",
     "text": [
      "Elapsed time for function fibo: 0.0s\n"
     ]
    },
    {
     "data": {
      "text/plain": [
       "832040"
      ]
     },
     "execution_count": 14,
     "metadata": {},
     "output_type": "execute_result"
    }
   ],
   "source": [
    "# for i in range(200):\n",
    "#     print(i, '->', fibo(i))\n",
    "fibo(30)\n",
    "#fibo(1000)"
   ]
  },
  {
   "cell_type": "code",
   "execution_count": null,
   "metadata": {},
   "outputs": [],
   "source": []
  }
 ],
 "metadata": {
  "kernelspec": {
   "display_name": "Python 3",
   "language": "python",
   "name": "python3"
  },
  "language_info": {
   "codemirror_mode": {
    "name": "ipython",
    "version": 3
   },
   "file_extension": ".py",
   "mimetype": "text/x-python",
   "name": "python",
   "nbconvert_exporter": "python",
   "pygments_lexer": "ipython3",
   "version": "3.7.6"
  },
  "metadata": {
   "interpreter": {
    "hash": "04a2b20e5f1d62e862542ed5088b1a85a552e16a3725afd42886127758f497e3"
   }
  }
 },
 "nbformat": 4,
 "nbformat_minor": 4
}
